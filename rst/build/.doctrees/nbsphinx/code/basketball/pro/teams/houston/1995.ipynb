{
 "cells": [
  {
   "cell_type": "markdown",
   "metadata": {},
   "source": [
    "# 1995 Player Stats"
   ]
  },
  {
   "cell_type": "markdown",
   "metadata": {},
   "source": [
    "## Import Libraries\n"
   ]
  },
  {
   "cell_type": "code",
   "execution_count": 1,
   "metadata": {
    "ExecuteTime": {
     "end_time": "2020-04-13T03:39:02.618120Z",
     "start_time": "2020-04-13T03:39:00.075060Z"
    }
   },
   "outputs": [],
   "source": [
    "import pandas as pd\n",
    "import matplotlib.pyplot as plt\n",
    "import plotly.express as px"
   ]
  },
  {
   "cell_type": "markdown",
   "metadata": {},
   "source": [
    "## Get Data\n",
    "\n",
    "### Source\n",
    "\n",
    "[1994-95 Houston Rockets Roster and Stats | Basketball-Reference.com](https://www.basketball-reference.com/teams/HOU/1995.html#per_game::none)"
   ]
  },
  {
   "cell_type": "markdown",
   "metadata": {},
   "source": [
    "### Store in dataframe"
   ]
  },
  {
   "cell_type": "code",
   "execution_count": 2,
   "metadata": {
    "ExecuteTime": {
     "end_time": "2020-04-13T03:39:02.640085Z",
     "start_time": "2020-04-13T03:39:02.621059Z"
    }
   },
   "outputs": [],
   "source": [
    "hou_1995 = pd.read_csv('1995.csv')"
   ]
  },
  {
   "cell_type": "markdown",
   "metadata": {},
   "source": [
    "## EDA"
   ]
  },
  {
   "cell_type": "markdown",
   "metadata": {},
   "source": [
    "### Data Definition"
   ]
  },
  {
   "cell_type": "code",
   "execution_count": 3,
   "metadata": {
    "ExecuteTime": {
     "end_time": "2020-04-13T03:39:02.679344Z",
     "start_time": "2020-04-13T03:39:02.645434Z"
    },
    "scrolled": true
   },
   "outputs": [
    {
     "name": "stdout",
     "output_type": "stream",
     "text": [
      "<class 'pandas.core.frame.DataFrame'>\n",
      "RangeIndex: 17 entries, 0 to 16\n",
      "Data columns (total 28 columns):\n",
      " #   Column  Non-Null Count  Dtype  \n",
      "---  ------  --------------  -----  \n",
      " 0   Rk      17 non-null     int64  \n",
      " 1   Player  17 non-null     object \n",
      " 2   Age     17 non-null     int64  \n",
      " 3   G       17 non-null     int64  \n",
      " 4   GS      17 non-null     int64  \n",
      " 5   MP      17 non-null     float64\n",
      " 6   FG      17 non-null     float64\n",
      " 7   FGA     17 non-null     float64\n",
      " 8   FG%     17 non-null     float64\n",
      " 9   3P      17 non-null     float64\n",
      " 10  3PA     17 non-null     float64\n",
      " 11  3P%     15 non-null     float64\n",
      " 12  2P      17 non-null     float64\n",
      " 13  2PA     17 non-null     float64\n",
      " 14  2P%     17 non-null     float64\n",
      " 15  eFG%    17 non-null     float64\n",
      " 16  FT      17 non-null     float64\n",
      " 17  FTA     17 non-null     float64\n",
      " 18  FT%     17 non-null     float64\n",
      " 19  ORB     17 non-null     float64\n",
      " 20  DRB     17 non-null     float64\n",
      " 21  TRB     17 non-null     float64\n",
      " 22  AST     17 non-null     float64\n",
      " 23  STL     17 non-null     float64\n",
      " 24  BLK     17 non-null     float64\n",
      " 25  TOV     17 non-null     float64\n",
      " 26  PF      17 non-null     float64\n",
      " 27  PTS/G   17 non-null     float64\n",
      "dtypes: float64(23), int64(4), object(1)\n",
      "memory usage: 3.8+ KB\n"
     ]
    }
   ],
   "source": [
    "hou_1995.info()"
   ]
  },
  {
   "cell_type": "markdown",
   "metadata": {},
   "source": [
    "### Visualizations"
   ]
  },
  {
   "cell_type": "markdown",
   "metadata": {},
   "source": [
    "#### Scatter Plot"
   ]
  },
  {
   "cell_type": "code",
   "execution_count": 4,
   "metadata": {
    "ExecuteTime": {
     "end_time": "2020-04-13T03:39:03.226296Z",
     "start_time": "2020-04-13T03:39:02.704611Z"
    }
   },
   "outputs": [
    {
     "data": {
      "image/png": "[encoded data removed]",
      "text/plain": [
       "<Figure size 432x288 with 1 Axes>"
      ]
     },
     "metadata": {
      "needs_background": "light"
     },
     "output_type": "display_data"
    }
   ],
   "source": [
    "ax = hou_1995.plot(kind='scatter', x='2P%', y='3P%')\n",
    "for i, plyr in enumerate(hou_1995.Player):\n",
    "    ax.annotate(plyr.split(' ')[0], (hou_1995['2P%'].iat[i], hou_1995['3P%'].iat[i]))\n",
    "plt.rcParams['figure.figsize'] = [5, 5]\n",
    "plt.show()\n"
   ]
  }
 ],
 "metadata": {
  "kernelspec": {
   "display_name": "Python 3",
   "language": "python",
   "name": "python3"
  },
  "language_info": {
   "codemirror_mode": {
    "name": "ipython",
    "version": 3
   },
   "file_extension": ".py",
   "mimetype": "text/x-python",
   "name": "python",
   "nbconvert_exporter": "python",
   "pygments_lexer": "ipython3",
   "version": "3.7.4"
  },
  "toc": {
   "base_numbering": 1,
   "nav_menu": {},
   "number_sections": true,
   "sideBar": true,
   "skip_h1_title": false,
   "title_cell": "Table of Contents",
   "title_sidebar": "Contents",
   "toc_cell": false,
   "toc_position": {},
   "toc_section_display": true,
   "toc_window_display": false
  },
  "varInspector": {
   "cols": {
    "lenName": 16,
    "lenType": 16,
    "lenVar": 40
   },
   "kernels_config": {
    "python": {
     "delete_cmd_postfix": "",
     "delete_cmd_prefix": "del ",
     "library": "var_list.py",
     "varRefreshCmd": "print(var_dic_list())"
    },
    "r": {
     "delete_cmd_postfix": ") ",
     "delete_cmd_prefix": "rm(",
     "library": "var_list.r",
     "varRefreshCmd": "cat(var_dic_list()) "
    }
   },
   "types_to_exclude": [
    "module",
    "function",
    "builtin_function_or_method",
    "instance",
    "_Feature"
   ],
   "window_display": false
  }
 },
 "nbformat": 4,
 "nbformat_minor": 4
}
